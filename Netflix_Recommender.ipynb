{
 "cells": [
  {
   "cell_type": "markdown",
   "id": "295c4c83",
   "metadata": {},
   "source": [
    "# 🎯 Netflix Hybrid Recommender with Feature Explanation"
   ]
  },
  {
   "cell_type": "markdown",
   "id": "52bb1495",
   "metadata": {},
   "source": [
    "\n",
    "This notebook implements a hybrid recommender system that prioritizes:\n",
    "- Genre matching from user input (mapped to real genres)\n",
    "- Description similarity using TF-IDF\n",
    "- Recency (release year)\n",
    "- Content type (Movie or TV Show)\n"
   ]
  },
  {
   "cell_type": "markdown",
   "id": "a9cb2fe9",
   "metadata": {},
   "source": [
    "## 📥 Load and Preprocess Data"
   ]
  },
  {
   "cell_type": "markdown",
   "id": "7e61162d",
   "metadata": {},
   "source": [
    "All data from the uploaded dataset is loaded and preprocessed.\n"
   ]
  },
  {
   "cell_type": "markdown",
   "id": "3e60b916",
   "metadata": {},
   "source": [
    "\n",
    "We clean and prepare the Netflix dataset, converting types and filling missing values.\n"
   ]
  },
  {
   "cell_type": "code",
   "execution_count": null,
   "id": "ba979095",
   "metadata": {},
   "outputs": [],
   "source": [
    "\n",
    "import pandas as pd\n",
    "from sklearn.feature_extraction.text import TfidfVectorizer\n",
    "from sklearn.metrics.pairwise import linear_kernel\n",
    "\n",
    "df = pd.read_csv(\"netflix_titles.csv\")\n",
    "df['description'] = df['description'].fillna('')\n",
    "df['listed_in'] = df['listed_in'].fillna('')\n",
    "df['rating'] = df['rating'].fillna('Unknown')\n",
    "df['release_year'] = pd.to_numeric(df['release_year'], errors='coerce')\n",
    "df = df.dropna(subset=['release_year'])\n",
    "df['type_encoded'] = df['type'].map({'Movie': 1, 'TV Show': 0})\n"
   ]
  },
  {
   "cell_type": "markdown",
   "id": "1b3c64ae",
   "metadata": {},
   "source": [
    "## 🔑 Genre Keyword Mapping"
   ]
  },
  {
   "cell_type": "code",
   "execution_count": null,
   "id": "28c7ab1d",
   "metadata": {},
   "outputs": [],
   "source": [
    "\n",
    "keyword_expansion = {\n",
    "    \"romcom\": [\"Romantic Movies\", \"Comedies\", \"International Movies\"],\n",
    "    \"action\": [\"Action & Adventure\", \"TV Action & Adventure\"],\n",
    "    \"drama\": [\"Dramas\", \"TV Dramas\"],\n",
    "    \"sci-fi\": [\"Sci-Fi & Fantasy\", \"TV Sci-Fi & Fantasy\"],\n",
    "    \"crime\": [\"Crime TV Shows\", \"Crime Movies\"],\n",
    "    \"thriller\": [\"Thrillers\", \"TV Thrillers\"],\n",
    "    \"fantasy\": [\"Fantasy Movies\", \"TV Sci-Fi & Fantasy\"],\n",
    "    \"romance\": [\"Romantic Movies\", \"Romantic TV Shows\"],\n",
    "    \"comedy\": [\"Comedies\", \"TV Comedies\"],\n",
    "    \"documentary\": [\"Documentaries\", \"Docuseries\"]\n",
    "}\n"
   ]
  },
  {
   "cell_type": "markdown",
   "id": "b2672494",
   "metadata": {},
   "source": [
    "this cell of code helps in relevance of the keyword used to search and reccommend on basis of genre searched"
   ]
  },
  {
   "cell_type": "markdown",
   "id": "00385e43",
   "metadata": {},
   "source": [
    "## 🧠 Define Hybrid Recommender"
   ]
  },
  {
   "cell_type": "markdown",
   "id": "f1b35dc2",
   "metadata": {},
   "source": [
    "the hybrid recommender is being define in the code cell below."
   ]
  },
  {
   "cell_type": "code",
   "execution_count": null,
   "id": "72792c08",
   "metadata": {},
   "outputs": [],
   "source": [
    "\n",
    "def recommend_advanced(user_keyword, preferred_type='Any', min_year=2000, max_year=2025, top_n=10):\n",
    "    genre_keywords = keyword_expansion.get(user_keyword.lower(), [])\n",
    "    \n",
    "    filtered_df = df[df['listed_in'].apply(lambda g: any(k in g for k in genre_keywords))]\n",
    "    if filtered_df.empty:\n",
    "        return pd.DataFrame(columns=['title', 'listed_in', 'release_year', 'rating', 'type', 'description'])\n",
    "\n",
    "    filtered_df = filtered_df[(filtered_df['release_year'] >= min_year) & (filtered_df['release_year'] <= max_year)]\n",
    "\n",
    "    if preferred_type in ['Movie', 'TV Show']:\n",
    "        filtered_df = filtered_df[filtered_df['type'] == preferred_type]\n",
    "\n",
    "    if filtered_df.empty:\n",
    "        return pd.DataFrame(columns=['title', 'listed_in', 'release_year', 'rating', 'type', 'description'])\n",
    "\n",
    "    tfidf = TfidfVectorizer(stop_words='english')\n",
    "    tfidf_matrix = tfidf.fit_transform(filtered_df['description'])\n",
    "    user_vector = tfidf.transform([\" \".join(genre_keywords) + \" \" + user_keyword])\n",
    "    desc_scores = linear_kernel(user_vector, tfidf_matrix).flatten()\n",
    "\n",
    "    input_genres = set(genre_keywords)\n",
    "    genre_scores = filtered_df['listed_in'].apply(lambda g: len(input_genres & set(g.split(\", \"))) / len(input_genres))\n",
    "\n",
    "    max_year_data = df['release_year'].max()\n",
    "    recency_scores = (filtered_df['release_year'] - min_year) / (max_year_data - min_year)\n",
    "\n",
    "    if preferred_type in ['Movie', 'TV Show']:\n",
    "        type_scores = (filtered_df['type'] == preferred_type).astype(int)\n",
    "    else:\n",
    "        type_scores = pd.Series([1] * len(filtered_df), index=filtered_df.index)\n",
    "\n",
    "    final_scores = (\n",
    "        0.4 * genre_scores +\n",
    "        0.3 * desc_scores +\n",
    "        0.2 * recency_scores +\n",
    "        0.1 * type_scores\n",
    "    )\n",
    "\n",
    "    top_indices = final_scores.argsort()[-top_n:][::-1]\n",
    "    return filtered_df.iloc[top_indices][['title', 'listed_in', 'release_year', 'rating', 'type', 'description']]\n"
   ]
  },
  {
   "cell_type": "markdown",
   "id": "4b022973",
   "metadata": {},
   "source": [
    "## ▶️ Try an Example"
   ]
  },
  {
   "cell_type": "markdown",
   "id": "cc243e65",
   "metadata": {},
   "source": [
    "a test to check if the recommender is working\n"
   ]
  },
  {
   "cell_type": "code",
   "execution_count": null,
   "id": "25d53108",
   "metadata": {},
   "outputs": [],
   "source": [
    "\n",
    "recommend_advanced(\"romcom\", preferred_type=\"Movie\", min_year=2010, max_year=2025)\n"
   ]
  },
  {
   "cell_type": "markdown",
   "id": "b864a5d7",
   "metadata": {},
   "source": [
    "\n",
    "This output returns top genre-relevant Netflix titles that align with the user's keyword, year, and content preferences.\n"
   ]
  }
 ],
 "metadata": {
  "language_info": {
   "name": "python"
  }
 },
 "nbformat": 4,
 "nbformat_minor": 5
}
