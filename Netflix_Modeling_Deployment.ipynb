{
 "cells": [
  {
   "cell_type": "markdown",
   "id": "b7191e71",
   "metadata": {},
   "source": [
    "# 🎓 Netflix Modeling + Deployment Capstone Notebook"
   ]
  },
  {
   "cell_type": "markdown",
   "id": "6ff64e9d",
   "metadata": {},
   "source": [
    "\n",
    "This notebook builds and explains a machine learning model that predicts whether a Netflix title is a Movie or TV Show.\n",
    "It includes:\n",
    "- Preprocessing and feature engineering\n",
    "- Hyperparameter tuning\n",
    "- Model evaluation\n",
    "- SHAP explainability\n",
    "- Streamlit + Docker deployment templates\n"
   ]
  },
  {
   "cell_type": "markdown",
   "id": "3b510a86",
   "metadata": {},
   "source": [
    "## 📥 Step 1: Load and Prepare Data"
   ]
  },
  {
   "cell_type": "code",
   "execution_count": null,
   "id": "91d1d190",
   "metadata": {},
   "outputs": [],
   "source": [
    "\n",
    "import pandas as pd\n",
    "df = pd.read_csv(\"netflix_titles.csv\")\n",
    "\n",
    "# Fill missing values\n",
    "df['description'] = df['description'].fillna('')\n",
    "df['listed_in'] = df['listed_in'].fillna('')\n",
    "df['rating'] = df['rating'].fillna('Unknown')\n",
    "df['release_year'] = pd.to_numeric(df['release_year'], errors='coerce')\n",
    "df = df.dropna(subset=['release_year'])\n",
    "\n",
    "# Binary encode type\n",
    "df['type_encoded'] = df['type'].map({'Movie': 1, 'TV Show': 0})\n"
   ]
  },
  {
   "cell_type": "markdown",
   "id": "0b69c641",
   "metadata": {},
   "source": [
    "\n",
    "We clean the dataset by filling missing values, converting `release_year`, and encoding `type` as binary (Movie = 1, TV Show = 0).\n"
   ]
  },
  {
   "cell_type": "markdown",
   "id": "a51f20d8",
   "metadata": {},
   "source": [
    "## 🛠️ Step 2: Feature Engineering"
   ]
  },
  {
   "cell_type": "code",
   "execution_count": null,
   "id": "0a96a2f3",
   "metadata": {},
   "outputs": [],
   "source": [
    "\n",
    "from sklearn.preprocessing import LabelEncoder\n",
    "\n",
    "rating_enc = LabelEncoder()\n",
    "df['rating_encoded'] = rating_enc.fit_transform(df['rating'])\n",
    "\n",
    "df['genre_count'] = df['listed_in'].apply(lambda x: len(x.split(\", \")))\n",
    "\n",
    "features = ['release_year', 'rating_encoded', 'genre_count']\n",
    "X = df[features]\n",
    "y = df['type_encoded']\n"
   ]
  },
  {
   "cell_type": "markdown",
   "id": "5bf7d2f1",
   "metadata": {},
   "source": [
    "\n",
    "We encode ratings and count genres per title to create meaningful features.\n"
   ]
  },
  {
   "cell_type": "markdown",
   "id": "f8385333",
   "metadata": {},
   "source": [
    "## 🤖 Step 3: Train + Tune Random Forest Model"
   ]
  },
  {
   "cell_type": "code",
   "execution_count": null,
   "id": "18d367a3",
   "metadata": {},
   "outputs": [],
   "source": [
    "\n",
    "from sklearn.model_selection import train_test_split, GridSearchCV\n",
    "from sklearn.ensemble import RandomForestClassifier\n",
    "import joblib\n",
    "\n",
    "X_train, X_test, y_train, y_test = train_test_split(X, y, stratify=y, test_size=0.2, random_state=42)\n",
    "\n",
    "param_grid = {\n",
    "    'n_estimators': [100, 150],\n",
    "    'max_depth': [10, None]\n",
    "}\n",
    "grid = GridSearchCV(RandomForestClassifier(random_state=42), param_grid, cv=3, scoring='f1')\n",
    "grid.fit(X_train, y_train)\n",
    "\n",
    "best_model = grid.best_estimator_\n",
    "joblib.dump(best_model, \"best_type_model.pkl\")\n",
    "joblib.dump(rating_enc, \"rating_encoder.pkl\")\n"
   ]
  },
  {
   "cell_type": "markdown",
   "id": "cb041587",
   "metadata": {},
   "source": [
    "\n",
    "We train a `RandomForestClassifier` with hyperparameter tuning. The best model and encoder are saved for deployment.\n"
   ]
  },
  {
   "cell_type": "markdown",
   "id": "764a1daa",
   "metadata": {},
   "source": [
    "## 📊 Step 4: Evaluate Model"
   ]
  },
  {
   "cell_type": "code",
   "execution_count": null,
   "id": "7a173049",
   "metadata": {},
   "outputs": [],
   "source": [
    "\n",
    "from sklearn.metrics import classification_report, roc_auc_score\n",
    "\n",
    "y_pred = best_model.predict(X_test)\n",
    "y_proba = best_model.predict_proba(X_test)[:, 1]\n",
    "\n",
    "print(classification_report(y_test, y_pred))\n",
    "print(\"ROC AUC Score:\", roc_auc_score(y_test, y_proba))\n"
   ]
  },
  {
   "cell_type": "markdown",
   "id": "440e9bd3",
   "metadata": {},
   "source": [
    "\n",
    "Evaluation shows how well our model performs. We use classification metrics and ROC AUC.\n"
   ]
  },
  {
   "cell_type": "markdown",
   "id": "f2d74cc0",
   "metadata": {},
   "source": [
    "## 🧠 Step 5: SHAP Explainability"
   ]
  },
  {
   "cell_type": "code",
   "execution_count": null,
   "id": "4b740b46",
   "metadata": {},
   "outputs": [],
   "source": [
    "\n",
    "import shap\n",
    "explainer = shap.Explainer(best_model, X_train)\n",
    "shap_values = explainer(X_test)\n",
    "shap.summary_plot(shap_values, X_test)\n"
   ]
  },
  {
   "cell_type": "markdown",
   "id": "592da0dc",
   "metadata": {},
   "source": [
    "\n",
    "SHAP helps explain which features influenced the prediction and by how much.\n"
   ]
  },
  {
   "cell_type": "markdown",
   "id": "ed832bd7",
   "metadata": {},
   "source": [
    "## 🚀 Step 6: Streamlit & Docker Deployment"
   ]
  },
  {
   "cell_type": "code",
   "execution_count": null,
   "id": "15127254",
   "metadata": {},
   "outputs": [],
   "source": [
    "\n",
    "# Streamlit snippet\n",
    "'''\n",
    "import streamlit as st\n",
    "import joblib\n",
    "import numpy as np\n",
    "\n",
    "model = joblib.load(\"best_type_model.pkl\")\n",
    "encoder = joblib.load(\"rating_encoder.pkl\")\n",
    "\n",
    "year = st.slider(\"Release Year\", 1950, 2025, 2020)\n",
    "rating = st.selectbox(\"Rating\", ['PG', 'TV-MA', 'R', 'Unknown'])\n",
    "rating_enc = encoder.transform([rating])[0]\n",
    "genre_count = 2\n",
    "\n",
    "if st.button(\"Predict Type\"):\n",
    "    pred = model.predict([[year, rating_enc, genre_count]])[0]\n",
    "    st.success(\"Prediction: Movie\" if pred else \"Prediction: TV Show\")\n",
    "'''\n"
   ]
  },
  {
   "cell_type": "code",
   "execution_count": null,
   "id": "f5ae34dc",
   "metadata": {},
   "outputs": [],
   "source": [
    "\n",
    "# Dockerfile snippet\n",
    "'''\n",
    "FROM python:3.10\n",
    "WORKDIR /app\n",
    "COPY . /app\n",
    "RUN pip install -r requirements.txt\n",
    "EXPOSE 8501\n",
    "CMD [\"streamlit\", \"run\", \"streamlit_app.py\"]\n",
    "'''\n"
   ]
  }
 ],
 "metadata": {
  "language_info": {
   "name": "python"
  }
 },
 "nbformat": 4,
 "nbformat_minor": 5
}
